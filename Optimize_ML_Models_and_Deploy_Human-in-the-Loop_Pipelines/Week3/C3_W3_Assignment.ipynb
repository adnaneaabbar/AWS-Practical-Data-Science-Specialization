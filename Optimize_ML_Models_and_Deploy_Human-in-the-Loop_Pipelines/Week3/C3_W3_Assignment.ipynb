{
 "cells": [
  {
   "cell_type": "markdown",
   "metadata": {},
   "source": [
    "# Data labeling and human-in-the-loop pipelines with Amazon Augmented AI (A2I)"
   ]
  },
  {
   "cell_type": "markdown",
   "metadata": {},
   "source": [
    "### Introduction\n",
    "\n",
    "In this lab you will create your own human workforce, a human task UI, and then define the human review workflow to perform data labeling. You will make the original predictions of the labels with the custom ML model, and then create a human loop if the probability scores are lower than the preset threshold. After the completion of the human loop tasks, you will review the results and prepare data for re-training.\n",
    "\n",
    "### Table of Contents\n",
    "\n",
    "- [1. Set up Amazon Cognito user pool and define human workforce](#c3w3-1.)\n",
    "  - [1.1. Create Amazon Cognito user pool](#c3w3-1.1.)\n",
    "    - [Exercise 1](#c3w3-ex-1)\n",
    "  - [1.2. Create Amazon Cognito user pool client](#c3w3-1.2.)\n",
    "    - [Exercise 2](#c3w3-ex-2)\n",
    "  - [1.3. Create Amazon Cognito user pool domain and group](#c3w3-1.3.)\n",
    "    - [Exercise 3](#c3w3-ex-3)\n",
    "    - [Exercise 4](#c3w3-ex-4)\n",
    "  - [1.4. Create workforce and workteam](#c3w3-1.4.)\n",
    "    - [Exercise 5](#c3w3-ex-5)\n",
    "    - [Exercise 6](#c3w3-ex-6)\n",
    "  - [1.5. Create an Amazon Cognito user and add the user to the group](#c3w3-1.5.)\n",
    "- [2. Create Human Task UI](#c3w3-2.)\n",
    "  - [Exercise 7](#c3w3-ex-7)\n",
    "- [3. Define human review workflow](#c3w3-3.)\n",
    "  - [Exercise 8](#c3w3-ex-8)\n",
    "- [4. Start human loop with custom ML model](#c3w3-4.)\n",
    "  - [4.1. Deploy a custom model](#c3w3-4.1.)\n",
    "    - [Exercise 9](#c3w3-ex-9)\n",
    "  - [4.2. Start the human loop](#c3w3-4.2.)\n",
    "    - [Exercise 10](#c3w3-ex-10)\n",
    "  - [4.3. Check status of the human loop](#c3w3-4.3.)\n",
    "  - [4.4. Complete the human loop tasks](#c3w3-4.4.)\n",
    "  - [4.5. Verify that the human loops were completed by the workforce](#c3w3-4.5.)\n",
    "  - [4.6. View human labels and prepare the data for re-training](#c3w3-4.6.)"
   ]
  },
  {
   "cell_type": "markdown",
   "metadata": {},
   "source": [
    "Let's install and import the required modules."
   ]
  },
  {
   "cell_type": "code",
   "execution_count": 2,
   "metadata": {
    "tags": []
   },
   "outputs": [
    {
     "name": "stdout",
     "output_type": "stream",
     "text": [
      "\u001b[33mDEPRECATION: pyodbc 4.0.0-unsupported has a non-standard version number. pip 23.3 will enforce this behaviour change. A possible replacement is to upgrade to a newer version of pyodbc or contact the author to suggest that they release a version with a conforming version number. Discussion can be found at https://github.com/pypa/pip/issues/12063\u001b[0m\u001b[33m\n",
      "\u001b[0m\u001b[31mERROR: pip's dependency resolver does not currently take into account all the packages that are installed. This behaviour is the source of the following dependency conflicts.\n",
      "sparkmagic 0.20.4 requires nest-asyncio==1.5.5, but you have nest-asyncio 1.5.7 which is incompatible.\u001b[0m\u001b[31m\n",
      "\u001b[0m\u001b[33mWARNING: Running pip as the 'root' user can result in broken permissions and conflicting behaviour with the system package manager. It is recommended to use a virtual environment instead: https://pip.pypa.io/warnings/venv\u001b[0m\u001b[33m\n",
      "\u001b[0m\u001b[33mDEPRECATION: pyodbc 4.0.0-unsupported has a non-standard version number. pip 23.3 will enforce this behaviour change. A possible replacement is to upgrade to a newer version of pyodbc or contact the author to suggest that they release a version with a conforming version number. Discussion can be found at https://github.com/pypa/pip/issues/12063\u001b[0m\u001b[33m\n",
      "\u001b[0m\u001b[33mWARNING: Running pip as the 'root' user can result in broken permissions and conflicting behaviour with the system package manager. It is recommended to use a virtual environment instead: https://pip.pypa.io/warnings/venv\u001b[0m\u001b[33m\n",
      "\u001b[0m"
     ]
    }
   ],
   "source": [
    "# please ignore warning messages during the installation\n",
    "!pip install --disable-pip-version-check -q sagemaker==2.35.0\n",
    "!pip install --disable-pip-version-check -q protobuf===3.20.1"
   ]
  },
  {
   "cell_type": "code",
   "execution_count": 3,
   "metadata": {
    "tags": []
   },
   "outputs": [
    {
     "name": "stderr",
     "output_type": "stream",
     "text": [
      "/opt/conda/lib/python3.7/site-packages/boto3/compat.py:82: PythonDeprecationWarning: Boto3 will no longer support Python 3.7 starting December 13, 2023. To continue receiving service updates, bug fixes, and security updates please upgrade to Python 3.8 or later. More information can be found here: https://aws.amazon.com/blogs/developer/python-support-policy-updates-for-aws-sdks-and-tools/\n",
      "  warnings.warn(warning, PythonDeprecationWarning)\n"
     ]
    }
   ],
   "source": [
    "import boto3\n",
    "import sagemaker\n",
    "import pandas as pd\n",
    "from pprint import pprint\n",
    "import botocore\n",
    "\n",
    "config = botocore.config.Config(user_agent_extra='dlai-pds/c3/w3')\n",
    "\n",
    "# low-level service client of the boto3 session\n",
    "sm = boto3.client(service_name='sagemaker', \n",
    "                  config=config)\n",
    "\n",
    "sm_runtime = boto3.client('sagemaker-runtime',\n",
    "                          config=config)\n",
    "\n",
    "sess = sagemaker.Session(sagemaker_client=sm,\n",
    "                         sagemaker_runtime_client=sm_runtime)\n",
    "\n",
    "bucket = sess.default_bucket()\n",
    "role = sagemaker.get_execution_role()\n",
    "region = sess.boto_region_name\n",
    "\n",
    "s3 = boto3.Session().client(service_name='s3', \n",
    "                            config=config)\n",
    "cognito_idp = boto3.Session().client(service_name='cognito-idp', \n",
    "                                     config=config)\n",
    "a2i = boto3.Session().client(service_name='sagemaker-a2i-runtime', \n",
    "                             config=config)"
   ]
  },
  {
   "cell_type": "markdown",
   "metadata": {},
   "source": [
    "<a name='c3w3-1.'></a>\n",
    "# 1. Set up Amazon Cognito user pool and define human workforce\n",
    "\n",
    "The first step in the creation of the human-in-the-loop pipeline will be to create your own private workforce.\n",
    "\n",
    "<img src=\"images/human-loop-workflow-1-workforce.png\" width=\"40%\" align=\"center\">\n",
    "\n",
    "Amazon Cognito provides authentication, authorization, and user management for apps. This enables your workers to sign in directly to the labeling UI with a username and password. \n",
    "\n",
    "You will construct an Amazon Cognito user pool, setting up its client, domain, and group. Then you'll create a SageMaker workforce, linking it to the Cognito user pool. Followed by the creation of a SageMaker workteam, linking it to the Cognito user pool and group. And finally, you will create a pool user and add it to the group.\n",
    "\n",
    "To get started, let's construct the user pool and user pool client names."
   ]
  },
  {
   "cell_type": "code",
   "execution_count": 4,
   "metadata": {
    "tags": []
   },
   "outputs": [
    {
     "name": "stdout",
     "output_type": "stream",
     "text": [
      "Amazon Cognito user pool name: groundtruth-user-pool-1691926420\n",
      "Amazon Cognito user pool client name: groundtruth-user-pool-client-1691926420\n"
     ]
    }
   ],
   "source": [
    "import time\n",
    "timestamp = int(time.time())\n",
    "\n",
    "user_pool_name = 'groundtruth-user-pool-{}'.format(timestamp)\n",
    "user_pool_client_name = 'groundtruth-user-pool-client-{}'.format(timestamp)\n",
    "\n",
    "print(\"Amazon Cognito user pool name: {}\".format(user_pool_name))\n",
    "print(\"Amazon Cognito user pool client name: {}\".format(user_pool_client_name))"
   ]
  },
  {
   "cell_type": "markdown",
   "metadata": {},
   "source": [
    "<a name='c3w3-1.1.'></a>\n",
    "### 1.1. Create Amazon Cognito user pool\n",
    "\n",
    "Function `cognito_idp.create_user_pool` creates a new Amazon Cognito user pool. Passing the function result into a variable you can get the information about the response. The result is in dictionary format."
   ]
  },
  {
   "cell_type": "code",
   "execution_count": 5,
   "metadata": {
    "tags": []
   },
   "outputs": [
    {
     "name": "stdout",
     "output_type": "stream",
     "text": [
      "Amazon Cognito user pool ID: us-east-1_1WUma7wVb\n"
     ]
    }
   ],
   "source": [
    "create_user_pool_response = cognito_idp.create_user_pool(PoolName=user_pool_name)\n",
    "user_pool_id = create_user_pool_response['UserPool']['Id']\n",
    "\n",
    "print(\"Amazon Cognito user pool ID: {}\".format(user_pool_id))"
   ]
  },
  {
   "cell_type": "markdown",
   "metadata": {},
   "source": [
    "<a name='c3w3-ex-1'></a>\n",
    "### Exercise 1\n",
    "\n",
    "Pull the Amazon Cognito user pool name from its description.\n",
    "\n",
    "**Instructions**: Print the keys of the user pool, choose the one that corresponds to the name and print its value."
   ]
  },
  {
   "cell_type": "code",
   "execution_count": 6,
   "metadata": {
    "tags": []
   },
   "outputs": [
    {
     "name": "stdout",
     "output_type": "stream",
     "text": [
      "dict_keys(['Id', 'Name', 'Policies', 'DeletionProtection', 'LambdaConfig', 'LastModifiedDate', 'CreationDate', 'SchemaAttributes', 'VerificationMessageTemplate', 'UserAttributeUpdateSettings', 'MfaConfiguration', 'EstimatedNumberOfUsers', 'EmailConfiguration', 'AdminCreateUserConfig', 'Arn', 'AccountRecoverySetting'])\n"
     ]
    }
   ],
   "source": [
    "print(create_user_pool_response['UserPool'].keys())"
   ]
  },
  {
   "cell_type": "code",
   "execution_count": 7,
   "metadata": {
    "tags": []
   },
   "outputs": [
    {
     "name": "stdout",
     "output_type": "stream",
     "text": [
      "Amazon Cognito user pool name: groundtruth-user-pool-1691926420\n"
     ]
    }
   ],
   "source": [
    "### BEGIN SOLUTION - DO NOT delete this comment for grading purposes\n",
    "user_pool_name = create_user_pool_response['UserPool']['Name'] # Replace all None\n",
    "### END SOLUTION - DO NOT delete this comment for grading purposes\n",
    "print('Amazon Cognito user pool name: {}'.format(user_pool_name))"
   ]
  },
  {
   "cell_type": "markdown",
   "metadata": {},
   "source": [
    "<a name='c3w3-1.2.'></a>\n",
    "### 1.2. Create Amazon Cognito user pool client"
   ]
  },
  {
   "cell_type": "markdown",
   "metadata": {},
   "source": [
    "Now let's set up the Amazon Cognito user pool client for the created above user pool. \n",
    "\n",
    "The Amazon Cognito user pool client implements an open standard for authorization framework, `OAuth`. The standard enables apps to obtain limited access (scopes) to a user’s data without giving away a user’s password. It decouples authentication from authorization and supports multiple use cases addressing different device capabilities."
   ]
  },
  {
   "cell_type": "markdown",
   "metadata": {},
   "source": [
    "<a name='c3w3-ex-2'></a>\n",
    "### Exercise 2\n",
    "\n",
    "Create the Amazon Cognito user pool client for the constructed user pool.\n",
    "\n",
    "**Instructions**: Pass the user pool ID and the user pool client name into the function `cognito_idp.create_user_pool_client`. Review the other parameters of the function."
   ]
  },
  {
   "cell_type": "code",
   "execution_count": 56,
   "metadata": {
    "tags": []
   },
   "outputs": [
    {
     "name": "stdout",
     "output_type": "stream",
     "text": [
      "Amazon Cognito user pool client ID: 5hoic6s4tt1ae6hbdjddajer5p\n"
     ]
    }
   ],
   "source": [
    "### BEGIN SOLUTION - DO NOT delete this comment for grading purposes\n",
    "create_user_pool_client_response = cognito_idp.create_user_pool_client( # Replace None\n",
    "    UserPoolId=user_pool_id, # Replace None\n",
    "    ClientName=user_pool_client_name, # Replace None\n",
    "### END SOLUTION - DO NOT delete this comment for grading purposes\n",
    "    GenerateSecret=True, # boolean to specify whether you want to generate a secret\n",
    "    # a list of provider names for the identity providers that are supported on this client, e.g. Cognito, Facebook, Google\n",
    "    SupportedIdentityProviders=[\n",
    "        'COGNITO' \n",
    "    ],\n",
    "    # a list of the allowed OAuth flows, e.g. code, implicit, client_credentials\n",
    "    AllowedOAuthFlows=[\n",
    "        'code',\n",
    "        'implicit'\n",
    "    ],\n",
    "    # a list of the allowed OAuth scopes, e.g. phone, email, openid, and profile\n",
    "    AllowedOAuthScopes=[\n",
    "        'email',\n",
    "        'openid',\n",
    "        'profile'\n",
    "    ],\n",
    "    # a list of allowed redirect (callback) URLs for the identity providers\n",
    "    CallbackURLs=[\n",
    "        'https://datascienceonaws.com', \n",
    "    ],\n",
    "    # set to true if the client is allowed to follow the OAuth protocol when interacting with Cognito user pools\n",
    "    AllowedOAuthFlowsUserPoolClient=True\n",
    ")\n",
    "\n",
    "client_id = create_user_pool_client_response['UserPoolClient']['ClientId']\n",
    "print('Amazon Cognito user pool client ID: {}'.format(client_id))"
   ]
  },
  {
   "cell_type": "markdown",
   "metadata": {},
   "source": [
    "<a name='c3w3-1.3.'></a>\n",
    "### 1.3. Create Amazon Cognito user pool domain and group"
   ]
  },
  {
   "cell_type": "markdown",
   "metadata": {},
   "source": [
    "<a name='c3w3-ex-3'></a>\n",
    "### Exercise 3\n",
    "\n",
    "Set up the Amazon Cognito user pool domain for the constructed user pool.\n",
    "\n",
    "**Instructions**: Pass the user pool ID and the user pool domain name into the function `cognito_idp.create_user_pool_domain`."
   ]
  },
  {
   "cell_type": "code",
   "execution_count": 13,
   "metadata": {
    "tags": []
   },
   "outputs": [
    {
     "name": "stdout",
     "output_type": "stream",
     "text": [
      "Created Amazon Cognito user pool domain: groundtruth-user-pool-domain-1691926420\n"
     ]
    }
   ],
   "source": [
    "user_pool_domain_name = 'groundtruth-user-pool-domain-{}'.format(timestamp)\n",
    "\n",
    "try:\n",
    "    ### BEGIN SOLUTION - DO NOT delete this comment for grading purposes\n",
    "    cognito_idp.create_user_pool_domain( # Replace None  \n",
    "        UserPoolId=user_pool_id, # Replace None\n",
    "        Domain=user_pool_domain_name # Replace None\n",
    "    ### END SOLUTION - DO NOT delete this comment for grading purposes\n",
    "    )\n",
    "    print(\"Created Amazon Cognito user pool domain: {}\".format(user_pool_domain_name))\n",
    "except:\n",
    "    print(\"Amazon Cognito user pool domain {} already exists\".format(user_pool_domain_name))"
   ]
  },
  {
   "cell_type": "markdown",
   "metadata": {},
   "source": [
    "You will use the following function to check if the Amazon Cognito user group already exists."
   ]
  },
  {
   "cell_type": "code",
   "execution_count": 14,
   "metadata": {
    "tags": []
   },
   "outputs": [],
   "source": [
    "def check_user_pool_group_existence(user_pool_id, user_pool_group_name):  \n",
    "    for group in cognito_idp.list_groups(UserPoolId=user_pool_id)['Groups']:\n",
    "        if user_pool_group_name == group['GroupName']:\n",
    "            return True\n",
    "    return False"
   ]
  },
  {
   "cell_type": "markdown",
   "metadata": {},
   "source": [
    "<a name='c3w3-ex-4'></a>\n",
    "### Exercise 4\n",
    "\n",
    "Set up Amazon Cognito user group.\n",
    "\n",
    "**Instructions**: Pass the user pool ID and the user group name into the function `cognito_idp.create_group`."
   ]
  },
  {
   "cell_type": "code",
   "execution_count": 15,
   "metadata": {
    "tags": []
   },
   "outputs": [
    {
     "name": "stdout",
     "output_type": "stream",
     "text": [
      "Created Amazon Cognito user group: groundtruth-user-pool-group-1691926420\n"
     ]
    }
   ],
   "source": [
    "user_pool_group_name = 'groundtruth-user-pool-group-{}'.format(timestamp)\n",
    "\n",
    "if not check_user_pool_group_existence(user_pool_id, user_pool_group_name):\n",
    "    ### BEGIN SOLUTION - DO NOT delete this comment for grading purposes\n",
    "    cognito_idp.create_group( # Replace None\n",
    "        UserPoolId=user_pool_id, # Replace None\n",
    "        GroupName=user_pool_group_name # Replace None\n",
    "    ### END SOLUTION - DO NOT delete this comment for grading purposes\n",
    "    )\n",
    "    print(\"Created Amazon Cognito user group: {}\".format(user_pool_group_name))\n",
    "else:\n",
    "    print(\"Amazon Cognito user group {} already exists\".format(user_pool_group_name))"
   ]
  },
  {
   "cell_type": "markdown",
   "metadata": {},
   "source": [
    "<a name='c3w3-1.4.'></a>\n",
    "### 1.4. Create workforce and workteam\n",
    "\n",
    "Use the following function to check if the workforce already exists. You can only create one workforce per region, therefore you'll have to delete any other existing workforce, together with all of the related workteams."
   ]
  },
  {
   "cell_type": "code",
   "execution_count": 16,
   "metadata": {
    "tags": []
   },
   "outputs": [],
   "source": [
    "def check_workforce_existence(workforce_name):  \n",
    "    for workforce in sm.list_workforces()['Workforces']:\n",
    "        if workforce_name == workforce['WorkforceName']:\n",
    "            return True\n",
    "        else:\n",
    "            for workteam in sm.list_workteams()['Workteams']:\n",
    "                sm.delete_workteam(WorkteamName=workteam['WorkteamName'])\n",
    "            sm.delete_workforce(WorkforceName=workforce['WorkforceName'])\n",
    "    return False"
   ]
  },
  {
   "cell_type": "markdown",
   "metadata": {},
   "source": [
    "<a name='c3w3-ex-5'></a>\n",
    "### Exercise 5\n",
    "\n",
    "Create a workforce.\n",
    "\n",
    "**Instructions**: Pass the Amazon Cognito user pool ID and client ID into the Cognito configuration of the function `sm.create_workforce`."
   ]
  },
  {
   "cell_type": "code",
   "execution_count": 23,
   "metadata": {
    "tags": []
   },
   "outputs": [
    {
     "name": "stdout",
     "output_type": "stream",
     "text": [
      "Workforce groundtruth-workforce-name-1691926420 already exists\n"
     ]
    }
   ],
   "source": [
    "workforce_name = 'groundtruth-workforce-name-{}'.format(timestamp)\n",
    "\n",
    "if not check_workforce_existence(workforce_name):\n",
    "    create_workforce_response = sm.create_workforce(\n",
    "        WorkforceName=workforce_name,\n",
    "        CognitoConfig={\n",
    "            ### BEGIN SOLUTION - DO NOT delete this comment for grading purposes\n",
    "            'UserPool': user_pool_id, # Replace None\n",
    "            'ClientId': client_id # Replace None\n",
    "            ### END SOLUTION - DO NOT delete this comment for grading purposes\n",
    "        }\n",
    "    )\n",
    "    print(\"Workforce name: {}\".format(workforce_name))\n",
    "    pprint(create_workforce_response)\n",
    "else:\n",
    "    print(\"Workforce {} already exists\".format(workforce_name))"
   ]
  },
  {
   "cell_type": "markdown",
   "metadata": {},
   "source": [
    "You can use the `sm.describe_workforce` function to get the information about the workforce."
   ]
  },
  {
   "cell_type": "code",
   "execution_count": 24,
   "metadata": {
    "tags": []
   },
   "outputs": [
    {
     "data": {
      "text/plain": [
       "{'Workforce': {'WorkforceName': 'groundtruth-workforce-name-1691926420',\n",
       "  'WorkforceArn': 'arn:aws:sagemaker:us-east-1:177343515204:workforce/groundtruth-workforce-name-1691926420',\n",
       "  'LastUpdatedDate': datetime.datetime(2023, 8, 13, 11, 44, 30, 838000, tzinfo=tzlocal()),\n",
       "  'SourceIpConfig': {'Cidrs': []},\n",
       "  'SubDomain': 'bm4dnoi49u.labeling.us-east-1.sagemaker.aws',\n",
       "  'CognitoConfig': {'UserPool': 'us-east-1_1WUma7wVb',\n",
       "   'ClientId': '6hkiogek8el5bg878hk92q62aj'},\n",
       "  'CreateDate': datetime.datetime(2023, 8, 13, 11, 42, 29, 207000, tzinfo=tzlocal()),\n",
       "  'Status': 'Active'},\n",
       " 'ResponseMetadata': {'RequestId': 'b41e7886-6cc2-4fe6-aa7c-241fd8ea227a',\n",
       "  'HTTPStatusCode': 200,\n",
       "  'HTTPHeaders': {'x-amzn-requestid': 'b41e7886-6cc2-4fe6-aa7c-241fd8ea227a',\n",
       "   'content-type': 'application/x-amz-json-1.1',\n",
       "   'content-length': '439',\n",
       "   'date': 'Sun, 13 Aug 2023 11:45:37 GMT'},\n",
       "  'RetryAttempts': 0}}"
      ]
     },
     "execution_count": 24,
     "metadata": {},
     "output_type": "execute_result"
    }
   ],
   "source": [
    "describe_workforce_response = sm.describe_workforce(WorkforceName=workforce_name)\n",
    "describe_workforce_response"
   ]
  },
  {
   "cell_type": "markdown",
   "metadata": {},
   "source": [
    "Use the following function to check if the workteam already exists. If there are no workteams in the list, give some time for the workforce to set up."
   ]
  },
  {
   "cell_type": "code",
   "execution_count": 25,
   "metadata": {
    "tags": []
   },
   "outputs": [],
   "source": [
    "def check_workteam_existence(workteam_name):  \n",
    "    if sm.list_workteams()['Workteams']:\n",
    "        for workteam in sm.list_workteams()['Workteams']:\n",
    "            if workteam_name == workteam['WorkteamName']:\n",
    "                return True\n",
    "    else:\n",
    "        time.sleep(60)\n",
    "        return False\n",
    "    return False"
   ]
  },
  {
   "cell_type": "markdown",
   "metadata": {},
   "source": [
    "<a name='c3w3-ex-6'></a>\n",
    "### Exercise 6\n",
    "\n",
    "Create a workteam.\n",
    "\n",
    "**Instructions**: Pass the Amazon Cognito user pool ID, client ID, and group name into the Cognito member definition of the function `sm.create_workteam`.\n",
    "\n",
    "### _This cell may take 1-2 minutes to run._"
   ]
  },
  {
   "cell_type": "code",
   "execution_count": 26,
   "metadata": {
    "tags": []
   },
   "outputs": [
    {
     "name": "stdout",
     "output_type": "stream",
     "text": [
      "{'ResponseMetadata': {'HTTPHeaders': {'content-length': '113',\n",
      "                                      'content-type': 'application/x-amz-json-1.1',\n",
      "                                      'date': 'Sun, 13 Aug 2023 11:46:45 GMT',\n",
      "                                      'x-amzn-requestid': 'ea08a1bb-540e-4e34-a402-8655bdaa6ff3'},\n",
      "                      'HTTPStatusCode': 200,\n",
      "                      'RequestId': 'ea08a1bb-540e-4e34-a402-8655bdaa6ff3',\n",
      "                      'RetryAttempts': 0},\n",
      " 'WorkteamArn': 'arn:aws:sagemaker:us-east-1:177343515204:workteam/private-crowd/groundtruth-workteam-1691926420'}\n"
     ]
    }
   ],
   "source": [
    "workteam_name = 'groundtruth-workteam-{}'.format(timestamp)\n",
    "\n",
    "if not check_workteam_existence(workteam_name):\n",
    "    create_workteam_response = sm.create_workteam(\n",
    "        Description='groundtruth workteam',\n",
    "        WorkforceName=workforce_name,\n",
    "        WorkteamName=workteam_name,\n",
    "        # objects that identify the workers that make up the work team\n",
    "        MemberDefinitions=[{\n",
    "            'CognitoMemberDefinition': {\n",
    "                ### BEGIN SOLUTION - DO NOT delete this comment for grading purposes\n",
    "                'UserPool': user_pool_id, # Replace None\n",
    "                'ClientId': client_id, # Replace None\n",
    "                'UserGroup': user_pool_group_name # Replace None\n",
    "                ### END SOLUTION - DO NOT delete this comment for grading purposes\n",
    "            }\n",
    "        }]\n",
    "    )\n",
    "    pprint(create_workteam_response)\n",
    "else:\n",
    "    print(\"Workteam {} already exists\".format(workteam_name))"
   ]
  },
  {
   "cell_type": "markdown",
   "metadata": {},
   "source": [
    "You can use `sm.describe_workteam` function to get information about the workteam."
   ]
  },
  {
   "cell_type": "code",
   "execution_count": 27,
   "metadata": {
    "tags": []
   },
   "outputs": [
    {
     "data": {
      "text/plain": [
       "{'Workteam': {'WorkteamName': 'groundtruth-workteam-1691926420',\n",
       "  'MemberDefinitions': [{'CognitoMemberDefinition': {'UserPool': 'us-east-1_1WUma7wVb',\n",
       "     'UserGroup': 'groundtruth-user-pool-group-1691926420',\n",
       "     'ClientId': '6hkiogek8el5bg878hk92q62aj'}}],\n",
       "  'WorkteamArn': 'arn:aws:sagemaker:us-east-1:177343515204:workteam/private-crowd/groundtruth-workteam-1691926420',\n",
       "  'Description': 'groundtruth workteam',\n",
       "  'SubDomain': 'bm4dnoi49u.labeling.us-east-1.sagemaker.aws',\n",
       "  'CreateDate': datetime.datetime(2023, 8, 13, 11, 46, 45, 472000, tzinfo=tzlocal()),\n",
       "  'LastUpdatedDate': datetime.datetime(2023, 8, 13, 11, 46, 46, 275000, tzinfo=tzlocal()),\n",
       "  'NotificationConfiguration': {}},\n",
       " 'ResponseMetadata': {'RequestId': '90c70058-1eef-4bb4-9e80-ede2504e376e',\n",
       "  'HTTPStatusCode': 200,\n",
       "  'HTTPHeaders': {'x-amzn-requestid': '90c70058-1eef-4bb4-9e80-ede2504e376e',\n",
       "   'content-type': 'application/x-amz-json-1.1',\n",
       "   'content-length': '544',\n",
       "   'date': 'Sun, 13 Aug 2023 11:46:45 GMT'},\n",
       "  'RetryAttempts': 0}}"
      ]
     },
     "execution_count": 27,
     "metadata": {},
     "output_type": "execute_result"
    }
   ],
   "source": [
    "describe_workteam_response = sm.describe_workteam(WorkteamName=workteam_name)\n",
    "describe_workteam_response"
   ]
  },
  {
   "cell_type": "markdown",
   "metadata": {},
   "source": [
    "Now you can pull the workteam ARN either from `create_workteam_response` or `describe_workteam_response`."
   ]
  },
  {
   "cell_type": "code",
   "execution_count": 28,
   "metadata": {
    "tags": []
   },
   "outputs": [
    {
     "data": {
      "text/plain": [
       "'arn:aws:sagemaker:us-east-1:177343515204:workteam/private-crowd/groundtruth-workteam-1691926420'"
      ]
     },
     "execution_count": 28,
     "metadata": {},
     "output_type": "execute_result"
    }
   ],
   "source": [
    "workteam_arn = describe_workteam_response['Workteam']['WorkteamArn']\n",
    "workteam_arn"
   ]
  },
  {
   "cell_type": "markdown",
   "metadata": {},
   "source": [
    "Review the created workteam in the AWS console.\n",
    "\n",
    "**Instructions**:\n",
    "\n",
    "- open the link\n",
    "- notice that you are in the section Amazon SageMaker -> Labeling workforces\n",
    "- check the name of the workteam, its Amazon Cognito user group and ARN"
   ]
  },
  {
   "cell_type": "code",
   "execution_count": 29,
   "metadata": {
    "tags": []
   },
   "outputs": [
    {
     "data": {
      "text/html": [
       "<b>Review <a target=\"blank\" href=\"https://us-east-1.console.aws.amazon.com/sagemaker/groundtruth?region=us-east-1#/labeling-workforces/private-details/groundtruth-workteam-1691926420\">workteam</a></b>"
      ],
      "text/plain": [
       "<IPython.core.display.HTML object>"
      ]
     },
     "metadata": {},
     "output_type": "display_data"
    }
   ],
   "source": [
    "from IPython.core.display import display, HTML\n",
    "\n",
    "display(HTML('<b>Review <a target=\"blank\" href=\"https://{}.console.aws.amazon.com/sagemaker/groundtruth?region={}#/labeling-workforces/private-details/{}\">workteam</a></b>'.format(region, region, workteam_name)))"
   ]
  },
  {
   "cell_type": "markdown",
   "metadata": {},
   "source": [
    "<a name='c3w3-1.5.'></a>\n",
    "### 1.5. Create an Amazon Cognito user and add the user to the group\n",
    "\n",
    "Use the following function to check if the Amazon Cognito user already exists."
   ]
  },
  {
   "cell_type": "code",
   "execution_count": 30,
   "metadata": {
    "tags": []
   },
   "outputs": [],
   "source": [
    "def check_user_existence(user_pool_id, user_name):  \n",
    "    for user in cognito_idp.list_users(UserPoolId=user_pool_id)['Users']:\n",
    "        if user_name == user['Username']:\n",
    "            return True\n",
    "    return False"
   ]
  },
  {
   "cell_type": "markdown",
   "metadata": {},
   "source": [
    "Create a user passing the username, temporary password, and the Amazon Cognito user pool ID."
   ]
  },
  {
   "cell_type": "code",
   "execution_count": 31,
   "metadata": {
    "tags": []
   },
   "outputs": [
    {
     "name": "stdout",
     "output_type": "stream",
     "text": [
      "{'ResponseMetadata': {'HTTPHeaders': {'connection': 'keep-alive',\n",
      "                                      'content-length': '242',\n",
      "                                      'content-type': 'application/x-amz-json-1.1',\n",
      "                                      'date': 'Sun, 13 Aug 2023 11:46:47 GMT',\n",
      "                                      'x-amzn-requestid': '34e98245-0a10-4228-8a68-d0202e6e2aca'},\n",
      "                      'HTTPStatusCode': 200,\n",
      "                      'RequestId': '34e98245-0a10-4228-8a68-d0202e6e2aca',\n",
      "                      'RetryAttempts': 0},\n",
      " 'User': {'Attributes': [{'Name': 'sub',\n",
      "                          'Value': '3de08dda-0b9b-4851-9fb4-67561bdec9d3'}],\n",
      "          'Enabled': True,\n",
      "          'UserCreateDate': datetime.datetime(2023, 8, 13, 11, 46, 46, 994000, tzinfo=tzlocal()),\n",
      "          'UserLastModifiedDate': datetime.datetime(2023, 8, 13, 11, 46, 46, 994000, tzinfo=tzlocal()),\n",
      "          'UserStatus': 'FORCE_CHANGE_PASSWORD',\n",
      "          'Username': 'user-1691926420'}}\n"
     ]
    }
   ],
   "source": [
    "user_name = 'user-{}'.format(timestamp)\n",
    "\n",
    "temporary_password = 'Password@420'\n",
    "\n",
    "if not check_user_existence(user_pool_id, user_name):\n",
    "    create_user_response=cognito_idp.admin_create_user(\n",
    "        Username=user_name,\n",
    "        UserPoolId=user_pool_id,\n",
    "        TemporaryPassword=temporary_password,\n",
    "        MessageAction='SUPPRESS' # suppress sending the invitation message to a user that already exists\n",
    "    )\n",
    "    pprint(create_user_response)\n",
    "else:\n",
    "    print(\"Amazon Cognito user {} already exists\".format(user_name))"
   ]
  },
  {
   "cell_type": "markdown",
   "metadata": {},
   "source": [
    "Add the user into the Amazon Cognito user group."
   ]
  },
  {
   "cell_type": "code",
   "execution_count": 32,
   "metadata": {
    "tags": []
   },
   "outputs": [
    {
     "data": {
      "text/plain": [
       "{'ResponseMetadata': {'RequestId': '202708c9-bac1-4808-9e3b-ecd546f023ed',\n",
       "  'HTTPStatusCode': 200,\n",
       "  'HTTPHeaders': {'date': 'Sun, 13 Aug 2023 11:46:47 GMT',\n",
       "   'content-type': 'application/x-amz-json-1.1',\n",
       "   'content-length': '0',\n",
       "   'connection': 'keep-alive',\n",
       "   'x-amzn-requestid': '202708c9-bac1-4808-9e3b-ecd546f023ed'},\n",
       "  'RetryAttempts': 0}}"
      ]
     },
     "execution_count": 32,
     "metadata": {},
     "output_type": "execute_result"
    }
   ],
   "source": [
    "cognito_idp.admin_add_user_to_group(\n",
    "    UserPoolId=user_pool_id,\n",
    "    Username=user_name,\n",
    "    GroupName=user_pool_group_name\n",
    ")"
   ]
  },
  {
   "cell_type": "markdown",
   "metadata": {},
   "source": [
    "<a name='c3w3-2.'></a>\n",
    "# 2. Create Human Task UI\n",
    "\n",
    "<img src=\"images/human-loop-workflow-2-taskUI.png\" width=\"40%\" align=\"center\">\n",
    "\n",
    "Create a Human Task UI resource, using a worker task UI template.  This template will be rendered to the human workers whenever human interaction is required.\n",
    "\n",
    "Below there is a simple demo template provided, that is compatible with the current use case of classifying product reviews into the three sentiment classes. For other pre-built UIs (there are 70+), check: https://github.com/aws-samples/amazon-a2i-sample-task-uis"
   ]
  },
  {
   "cell_type": "code",
   "execution_count": 33,
   "metadata": {
    "tags": []
   },
   "outputs": [],
   "source": [
    "template = r\"\"\"\n",
    "<script src=\"https://assets.crowd.aws/crowd-html-elements.js\"></script>\n",
    "\n",
    "<crowd-form>\n",
    "    <crowd-classifier name=\"sentiment\"\n",
    "                      categories=\"['-1', '0', '1']\"\n",
    "                      initial-value=\"{{ task.input.initialValue }}\"\n",
    "                      header=\"Classify Reviews into Sentiment:  -1 (negative), 0 (neutral), and 1 (positive)\">\n",
    "      \n",
    "        <classification-target>\n",
    "            {{ task.input.taskObject }}\n",
    "        </classification-target>\n",
    "      \n",
    "        <full-instructions header=\"Classify reviews into sentiment:  -1 (negative), 0 (neutral), and 1 (positive)\">\n",
    "            <p><strong>1</strong>: joy, excitement, delight</p>       \n",
    "            <p><strong>0</strong>: neither positive or negative, such as stating a fact</p>\n",
    "            <p><strong>-1</strong>: anger, sarcasm, anxiety</p>\n",
    "        </full-instructions>\n",
    "\n",
    "        <short-instructions>\n",
    "            Classify reviews into sentiment:  -1 (negative), 0 (neutral), and 1 (positive)\n",
    "        </short-instructions>\n",
    "    </crowd-classifier>\n",
    "</crowd-form>\n",
    "\"\"\""
   ]
  },
  {
   "cell_type": "markdown",
   "metadata": {},
   "source": [
    "<a name='c3w3-ex-7'></a>\n",
    "### Exercise 7\n",
    "\n",
    "Create a human task UI resource.\n",
    "\n",
    "**Instructions**: Pass the worker task UI template defined above as the content of the UI template parameter to the function `sm.create_human_task_ui`."
   ]
  },
  {
   "cell_type": "code",
   "execution_count": 34,
   "metadata": {
    "tags": []
   },
   "outputs": [
    {
     "data": {
      "text/plain": [
       "{'HumanTaskUiArn': 'arn:aws:sagemaker:us-east-1:177343515204:human-task-ui/ui-1691926420',\n",
       " 'ResponseMetadata': {'RequestId': '83a52e8f-8056-4c96-9afb-c82fdea84e02',\n",
       "  'HTTPStatusCode': 200,\n",
       "  'HTTPHeaders': {'x-amzn-requestid': '83a52e8f-8056-4c96-9afb-c82fdea84e02',\n",
       "   'content-type': 'application/x-amz-json-1.1',\n",
       "   'content-length': '89',\n",
       "   'date': 'Sun, 13 Aug 2023 11:46:46 GMT'},\n",
       "  'RetryAttempts': 0}}"
      ]
     },
     "execution_count": 34,
     "metadata": {},
     "output_type": "execute_result"
    }
   ],
   "source": [
    "# Task UI name - this value is unique per account and region. You can also provide your own value here.\n",
    "task_ui_name = 'ui-{}'.format(timestamp)\n",
    "\n",
    "human_task_ui_response = sm.create_human_task_ui(\n",
    "    HumanTaskUiName=task_ui_name,\n",
    "    UiTemplate={\n",
    "        ### BEGIN SOLUTION - DO NOT delete this comment for grading purposes\n",
    "        \"Content\": template  # Replace None\n",
    "        ### END SOLUTION - DO NOT delete this comment for grading purposes\n",
    "    }\n",
    ")\n",
    "human_task_ui_response"
   ]
  },
  {
   "cell_type": "markdown",
   "metadata": {},
   "source": [
    "Pull the ARN of the human task UI:"
   ]
  },
  {
   "cell_type": "code",
   "execution_count": 35,
   "metadata": {
    "tags": []
   },
   "outputs": [
    {
     "name": "stdout",
     "output_type": "stream",
     "text": [
      "arn:aws:sagemaker:us-east-1:177343515204:human-task-ui/ui-1691926420\n"
     ]
    }
   ],
   "source": [
    "human_task_ui_arn = human_task_ui_response[\"HumanTaskUiArn\"]\n",
    "print(human_task_ui_arn)"
   ]
  },
  {
   "cell_type": "markdown",
   "metadata": {},
   "source": [
    "<a name='c3w3-3.'></a>\n",
    "# 3. Define human review workflow\n",
    "\n",
    "<img src=\"images/human-loop-workflow-3-review.png\" width=\"40%\" align=\"center\">"
   ]
  },
  {
   "cell_type": "markdown",
   "metadata": {},
   "source": [
    "In this section, you are going to create a Flow Definition. Flow Definitions allow you to specify:\n",
    "\n",
    "- The workforce (in fact, it is a workteam) that your tasks will be sent to.\n",
    "- The instructions that your workforce will receive (worker task template).\n",
    "- The configuration of your worker tasks, including the number of workers that receive a task and time limits to complete tasks.\n",
    "- Where your output data will be stored.\n",
    "\n",
    "Here you are going to use the API, but you can optionally create this workflow definition in the console as well. \n",
    "\n",
    "For more details and instructions, see: https://docs.aws.amazon.com/sagemaker/latest/dg/a2i-create-flow-definition.html.\n",
    "\n",
    "Let's construct the S3 bucket output path."
   ]
  },
  {
   "cell_type": "code",
   "execution_count": 36,
   "metadata": {
    "tags": []
   },
   "outputs": [
    {
     "name": "stdout",
     "output_type": "stream",
     "text": [
      "s3://sagemaker-us-east-1-177343515204/a2i-results-1691926420\n"
     ]
    }
   ],
   "source": [
    "output_path = 's3://{}/a2i-results-{}'.format(bucket, timestamp)\n",
    "print(output_path)"
   ]
  },
  {
   "cell_type": "markdown",
   "metadata": {},
   "source": [
    "<a name='c3w3-ex-8'></a>\n",
    "### Exercise 8\n",
    "\n",
    "Construct the Flow Definition with the workteam and human task UI in the human loop configurations that you created above.\n",
    "\n",
    "**Instructions**: Pass the workteam and human task UI ARNs into the `HumanLoopConfig` dictionary within the function `sm.create_flow_definition`. Review the other parameters."
   ]
  },
  {
   "cell_type": "code",
   "execution_count": 37,
   "metadata": {
    "tags": []
   },
   "outputs": [],
   "source": [
    "# Flow definition name - this value is unique per account and region\n",
    "flow_definition_name = 'fd-{}'.format(timestamp)\n",
    "\n",
    "create_workflow_definition_response = sm.create_flow_definition(\n",
    "    FlowDefinitionName=flow_definition_name,\n",
    "    RoleArn=role,\n",
    "    HumanLoopConfig={\n",
    "        ### BEGIN SOLUTION - DO NOT delete this comment for grading purposes\n",
    "        \"WorkteamArn\": workteam_arn, # Replace None\n",
    "        \"HumanTaskUiArn\": human_task_ui_arn, # Replace None\n",
    "        ### END SOLUTION - DO NOT delete this comment for grading purposes\n",
    "        \"TaskCount\": 1, # the number of workers that receive a task\n",
    "        \"TaskDescription\": \"Classify Reviews into sentiment:  -1 (negative), 0 (neutral), 1 (positive)\",\n",
    "        \"TaskTitle\": \"Classify Reviews into sentiment:  -1 (negative), 0 (neutral), 1 (positive)\",\n",
    "    },\n",
    "    OutputConfig={\"S3OutputPath\": output_path},\n",
    ")\n",
    "\n",
    "augmented_ai_flow_definition_arn = create_workflow_definition_response[\"FlowDefinitionArn\"]"
   ]
  },
  {
   "cell_type": "markdown",
   "metadata": {},
   "source": [
    "You can pull information about the Flow Definition with the function `sm.describe_flow_definition` and wait for its status value `FlowDefinitionStatus` to become `Active`."
   ]
  },
  {
   "cell_type": "code",
   "execution_count": 38,
   "metadata": {
    "scrolled": true,
    "tags": []
   },
   "outputs": [
    {
     "name": "stdout",
     "output_type": "stream",
     "text": [
      "Active\n",
      "Flow Definition is active\n"
     ]
    }
   ],
   "source": [
    "for _ in range(60):\n",
    "    describe_flow_definition_response = sm.describe_flow_definition(FlowDefinitionName=flow_definition_name)\n",
    "    print(describe_flow_definition_response[\"FlowDefinitionStatus\"])\n",
    "    if describe_flow_definition_response[\"FlowDefinitionStatus\"] == \"Active\":\n",
    "        print(\"Flow Definition is active\")\n",
    "        break\n",
    "    time.sleep(2)"
   ]
  },
  {
   "cell_type": "markdown",
   "metadata": {},
   "source": [
    "<a name='c3w3-4.'></a>\n",
    "# 4. Start human loop with custom ML model"
   ]
  },
  {
   "cell_type": "markdown",
   "metadata": {},
   "source": [
    "<img src=\"images/human-loop-workflow-4-start.png\" width=\"40%\" align=\"center\">\n",
    "\n",
    "Deploy a custom ML model into an endpoint and call it to predict labels for some sample reviews. Check the confidence score for each prediction. If it is smaller than the threshold, engage your workforce for a human review, starting a human loop. Fix the labels by completing the human loop tasks and review the results.\n",
    "\n",
    "<img src=\"images/augmented-ai-loop.png\" width=\"60%\" align=\"center\">"
   ]
  },
  {
   "cell_type": "markdown",
   "metadata": {},
   "source": [
    "<a name='c3w3-4.1.'></a>\n",
    "### 4.1. Deploy a custom model\n",
    "\n",
    "Set up a sentiment predictor class to be wrapped later into the PyTorch Model.\n",
    "\n",
    "<a name='c3w3-ex-9'></a>\n",
    "### Exercise 9\n",
    "\n",
    "Create a Sentiment Predictor class.\n",
    "\n",
    "**Instructions**: Pass the JSON serializer and deserializer objects here, calling them with the functions `JSONLinesSerializer()` and `JSONLinesDeserializer()`, respectively. More information about the serializers can be found [here](https://sagemaker.readthedocs.io/en/stable/api/inference/serializers.html)."
   ]
  },
  {
   "cell_type": "code",
   "execution_count": 39,
   "metadata": {
    "tags": []
   },
   "outputs": [],
   "source": [
    "from sagemaker.predictor import Predictor\n",
    "from sagemaker.serializers import JSONLinesSerializer\n",
    "from sagemaker.deserializers import JSONLinesDeserializer\n",
    "\n",
    "class SentimentPredictor(Predictor):\n",
    "    def __init__(self, endpoint_name, sagemaker_session):\n",
    "        super().__init__(\n",
    "            endpoint_name, \n",
    "            sagemaker_session=sagemaker_session,\n",
    "            ### BEGIN SOLUTION - DO NOT delete this comment for grading purposes\n",
    "            serializer=JSONLinesSerializer(), # Replace None\n",
    "            deserializer=JSONLinesDeserializer() # Replace None\n",
    "            ### END SOLUTION - DO NOT delete this comment for grading purposes\n",
    "        )"
   ]
  },
  {
   "cell_type": "markdown",
   "metadata": {},
   "source": [
    "Create a SageMaker model based on the model artifact saved in the S3 bucket."
   ]
  },
  {
   "cell_type": "code",
   "execution_count": 40,
   "metadata": {
    "tags": []
   },
   "outputs": [],
   "source": [
    "from sagemaker.pytorch.model import PyTorchModel\n",
    "\n",
    "pytorch_model_name = 'model-{}'.format(timestamp)\n",
    "\n",
    "model = PyTorchModel(name=pytorch_model_name,\n",
    "                     model_data='s3://dlai-practical-data-science/models/ab/variant_a/model.tar.gz',\n",
    "                     predictor_cls=SentimentPredictor,\n",
    "                     entry_point='inference.py',\n",
    "                     source_dir='src',\n",
    "                     framework_version='1.6.0',\n",
    "                     py_version='py3',\n",
    "                     role=role)"
   ]
  },
  {
   "cell_type": "markdown",
   "metadata": {},
   "source": [
    "Now you will create a SageMaker Endpoint from the model. For the purposes of this lab, you will use a relatively small instance type. Please refer to [this link](https://aws.amazon.com/sagemaker/pricing/) for additional instance types that may work for your use cases outside of this lab.\n",
    "\n",
    "### _This cell will take approximately 5-10 minutes to run._"
   ]
  },
  {
   "cell_type": "code",
   "execution_count": 41,
   "metadata": {
    "tags": []
   },
   "outputs": [
    {
     "name": "stdout",
     "output_type": "stream",
     "text": [
      "---------!CPU times: user 2min 21s, sys: 10.5 s, total: 2min 31s\n",
      "Wall time: 8min 32s\n"
     ]
    }
   ],
   "source": [
    "%%time\n",
    "\n",
    "pytorch_endpoint_name = 'endpoint-{}'.format(timestamp)\n",
    "\n",
    "predictor = model.deploy(initial_instance_count=1, \n",
    "                         instance_type='ml.m5.large', \n",
    "                         endpoint_name=pytorch_endpoint_name)"
   ]
  },
  {
   "cell_type": "markdown",
   "metadata": {},
   "source": [
    "You can review the endpoint in the AWS console and check its status."
   ]
  },
  {
   "cell_type": "code",
   "execution_count": 42,
   "metadata": {
    "tags": []
   },
   "outputs": [
    {
     "data": {
      "text/html": [
       "<b>Review <a target=\"blank\" href=\"https://console.aws.amazon.com/sagemaker/home?region=us-east-1#/endpoints/endpoint-1691926420\">SageMaker REST Endpoint</a></b>"
      ],
      "text/plain": [
       "<IPython.core.display.HTML object>"
      ]
     },
     "metadata": {},
     "output_type": "display_data"
    }
   ],
   "source": [
    "from IPython.core.display import display, HTML\n",
    "\n",
    "display(HTML('<b>Review <a target=\"blank\" href=\"https://console.aws.amazon.com/sagemaker/home?region={}#/endpoints/{}\">SageMaker REST Endpoint</a></b>'.format(region, pytorch_endpoint_name)))"
   ]
  },
  {
   "cell_type": "markdown",
   "metadata": {},
   "source": [
    "<a name='c3w3-4.2.'></a>\n",
    "### 4.2. Start the human loop"
   ]
  },
  {
   "cell_type": "markdown",
   "metadata": {},
   "source": [
    "Let's create a list of sample reviews."
   ]
  },
  {
   "cell_type": "code",
   "execution_count": 43,
   "metadata": {
    "tags": []
   },
   "outputs": [],
   "source": [
    "reviews = [\"I enjoy this product\", \n",
    "           \"I am unhappy with this product\", \n",
    "           \"It is okay\", \n",
    "           \"sometimes it works\"]"
   ]
  },
  {
   "cell_type": "markdown",
   "metadata": {},
   "source": [
    "Now you can send each of the sample reviews to the model via the `predictor.predict()` API call. Note that you need to pass the reviews in the JSON format that model expects as input. Then, you parse the model's response to obtain the predicted label and the confidence score. \n",
    "\n",
    "After that, you check the condition for when you want to engage a human for review. You can check whether the returned confidence score is under the defined threshold of 90%, which would mean that you would want to start the human loop with the predicted label and the review as inputs. Finally, you start the human loop passing the input content and Flow Definition defined above."
   ]
  },
  {
   "cell_type": "markdown",
   "metadata": {},
   "source": [
    "<a name='c3w3-ex-10'></a>\n",
    "### Exercise 10\n",
    "\n",
    "Complete the dictionary `input_content`, which should contain the original prediction (`'initialValue'` key) and review text (`'taskObject'` key)."
   ]
  },
  {
   "cell_type": "code",
   "execution_count": 44,
   "metadata": {
    "tags": []
   },
   "outputs": [
    {
     "name": "stdout",
     "output_type": "stream",
     "text": [
      "[{'probability': 0.9376369118690491, 'predicted_label': 1}]\n",
      "Checking prediction confidence 0.9376369118690491 for sample review: \"I enjoy this product\"\n",
      "Confidence score of 93.76369118690491% for star rating of 1 is above threshold of 90.0%\n",
      "Human loop not needed. \n",
      "\n",
      "[{'probability': 0.6340296864509583, 'predicted_label': -1}]\n",
      "Checking prediction confidence 0.6340296864509583 for sample review: \"I am unhappy with this product\"\n",
      "Confidence score of 63.402968645095825% for prediction of -1 is less than the threshold of 90.0%\n",
      "*** ==> Starting human loop with name: 1691927801-736438  \n",
      "\n",
      "[{'probability': 0.5422114729881287, 'predicted_label': 1}]\n",
      "Checking prediction confidence 0.5422114729881287 for sample review: \"It is okay\"\n",
      "Confidence score of 54.221147298812866% for prediction of 1 is less than the threshold of 90.0%\n",
      "*** ==> Starting human loop with name: 1691927802-2831688  \n",
      "\n",
      "[{'probability': 0.3931102454662323, 'predicted_label': 1}]\n",
      "Checking prediction confidence 0.3931102454662323 for sample review: \"sometimes it works\"\n",
      "Confidence score of 39.31102454662323% for prediction of 1 is less than the threshold of 90.0%\n",
      "*** ==> Starting human loop with name: 1691927802-768095  \n",
      "\n"
     ]
    }
   ],
   "source": [
    "import json\n",
    "\n",
    "human_loops_started = []\n",
    "\n",
    "CONFIDENCE_SCORE_THRESHOLD = 0.90\n",
    "\n",
    "for review in reviews:\n",
    "    inputs = [\n",
    "        {\"features\": [review]},\n",
    "    ]\n",
    "\n",
    "    response = predictor.predict(inputs)\n",
    "    print(response)\n",
    "    prediction = response[0]['predicted_label']\n",
    "    confidence_score = response[0]['probability']\n",
    "\n",
    "    print('Checking prediction confidence {} for sample review: \"{}\"'.format(confidence_score, review))\n",
    "\n",
    "    # condition for when you want to engage a human for review\n",
    "    if confidence_score < CONFIDENCE_SCORE_THRESHOLD:\n",
    "        human_loop_name = str(time.time()).replace('.', '-') # using milliseconds\n",
    "        input_content = {\n",
    "            ### BEGIN SOLUTION - DO NOT delete this comment for grading purposes\n",
    "            \"initialValue\": prediction, # Replace None\n",
    "            \"taskObject\": review # Replace None\n",
    "            ### END SOLUTION - DO NOT delete this comment for grading purposes\n",
    "        }\n",
    "        start_loop_response = a2i.start_human_loop(\n",
    "            HumanLoopName=human_loop_name,\n",
    "            FlowDefinitionArn=augmented_ai_flow_definition_arn,\n",
    "            HumanLoopInput={\"InputContent\": json.dumps(input_content)},\n",
    "        )\n",
    "\n",
    "        human_loops_started.append(human_loop_name)\n",
    "\n",
    "        print(\n",
    "            f\"Confidence score of {confidence_score * 100}% for prediction of {prediction} is less than the threshold of {CONFIDENCE_SCORE_THRESHOLD * 100}%\"\n",
    "        )\n",
    "        print(f\"*** ==> Starting human loop with name: {human_loop_name}  \\n\")\n",
    "    else:\n",
    "        print(\n",
    "            f\"Confidence score of {confidence_score * 100}% for star rating of {prediction} is above threshold of {CONFIDENCE_SCORE_THRESHOLD * 100}%\"\n",
    "        )\n",
    "        print(\"Human loop not needed. \\n\")"
   ]
  },
  {
   "cell_type": "markdown",
   "metadata": {},
   "source": [
    "Review the results above. Three of the sample reviews with the probability scores lower than the threshold went into the human loop. The original predicted labels are passed together with the review text and will be seen in the task."
   ]
  },
  {
   "cell_type": "markdown",
   "metadata": {},
   "source": [
    "<a name='c3w3-4.3.'></a>\n",
    "### 4.3. Check status of the human loop\n",
    "\n",
    "Function `a2i.describe_human_loop` can be used to pull the information about the human loop."
   ]
  },
  {
   "cell_type": "code",
   "execution_count": 45,
   "metadata": {
    "tags": []
   },
   "outputs": [
    {
     "name": "stdout",
     "output_type": "stream",
     "text": [
      "HumanLoop Name: 1691927801-736438\n",
      "HumanLoop Status: InProgress\n",
      "HumanLoop Output Destination: {'OutputS3Uri': 's3://sagemaker-us-east-1-177343515204/a2i-results-1691926420/fd-1691926420/2023/08/13/11/56/41/1691927801-736438/output.json'}\n",
      "\n",
      "HumanLoop Name: 1691927802-2831688\n",
      "HumanLoop Status: InProgress\n",
      "HumanLoop Output Destination: {'OutputS3Uri': 's3://sagemaker-us-east-1-177343515204/a2i-results-1691926420/fd-1691926420/2023/08/13/11/56/42/1691927802-2831688/output.json'}\n",
      "\n",
      "HumanLoop Name: 1691927802-768095\n",
      "HumanLoop Status: InProgress\n",
      "HumanLoop Output Destination: {'OutputS3Uri': 's3://sagemaker-us-east-1-177343515204/a2i-results-1691926420/fd-1691926420/2023/08/13/11/56/42/1691927802-768095/output.json'}\n",
      "\n"
     ]
    }
   ],
   "source": [
    "completed_human_loops = []\n",
    "for human_loop_name in human_loops_started:\n",
    "    resp = a2i.describe_human_loop(HumanLoopName=human_loop_name)\n",
    "    print(f\"HumanLoop Name: {human_loop_name}\")\n",
    "    print(f'HumanLoop Status: {resp[\"HumanLoopStatus\"]}')\n",
    "    print(f'HumanLoop Output Destination: {resp[\"HumanLoopOutput\"]}')\n",
    "    print(\"\")\n",
    "\n",
    "    if resp[\"HumanLoopStatus\"] == \"Completed\":\n",
    "        completed_human_loops.append(resp)"
   ]
  },
  {
   "cell_type": "markdown",
   "metadata": {},
   "source": [
    "<a name='c3w3-4.4.'></a>\n",
    "### 4.4. Complete the human loop tasks\n",
    "\n",
    "Pull labeling UI from the workteam information to get into the human loop tasks in the AWS console."
   ]
  },
  {
   "cell_type": "code",
   "execution_count": 46,
   "metadata": {
    "tags": []
   },
   "outputs": [
    {
     "name": "stdout",
     "output_type": "stream",
     "text": [
      "bm4dnoi49u.labeling.us-east-1.sagemaker.aws\n"
     ]
    }
   ],
   "source": [
    "labeling_ui = sm.describe_workteam(WorkteamName=workteam_name)[\"Workteam\"][\"SubDomain\"]\n",
    "print(labeling_ui)"
   ]
  },
  {
   "cell_type": "markdown",
   "metadata": {},
   "source": [
    "Navigate to the link below and login with the defined username and password. Complete the human loop following the provided instructions."
   ]
  },
  {
   "cell_type": "code",
   "execution_count": 47,
   "metadata": {
    "tags": []
   },
   "outputs": [
    {
     "data": {
      "text/html": [
       "Click <a target=\"blank\" href=\"https://bm4dnoi49u.labeling.us-east-1.sagemaker.aws\"><b>here</b></a> to start labeling with username <b>user-1691926420</b> and temporary password <b>Password@420</b>"
      ],
      "text/plain": [
       "<IPython.core.display.HTML object>"
      ]
     },
     "metadata": {},
     "output_type": "display_data"
    }
   ],
   "source": [
    "from IPython.core.display import display, HTML\n",
    "\n",
    "display(HTML('Click <a target=\"blank\" href=\"https://{}\"><b>here</b></a> to start labeling with username <b>{}</b> and temporary password <b>{}</b>'.format(labeling_ui, user_name, temporary_password)))"
   ]
  },
  {
   "cell_type": "markdown",
   "metadata": {},
   "source": [
    "<img src=\"images/label-data-job-instructions.png\" width=\"80%\" align=\"center\">"
   ]
  },
  {
   "cell_type": "markdown",
   "metadata": {},
   "source": [
    "_Wait for workers to complete ^^ their human loop tasks ^^_"
   ]
  },
  {
   "cell_type": "markdown",
   "metadata": {},
   "source": [
    "<a name='c3w3-4.5.'></a>\n",
    "### 4.5. Verify that the human loops were completed by the workforce\n",
    "\n",
    "## _Note:  This cell will not complete until you label the data following the instructions above._"
   ]
  },
  {
   "cell_type": "code",
   "execution_count": 52,
   "metadata": {
    "tags": []
   },
   "outputs": [
    {
     "name": "stdout",
     "output_type": "stream",
     "text": [
      "HumanLoop Name: 1691927801-736438\n",
      "HumanLoop Status: Completed\n",
      "HumanLoop Output Destination: {'OutputS3Uri': 's3://sagemaker-us-east-1-177343515204/a2i-results-1691926420/fd-1691926420/2023/08/13/11/56/41/1691927801-736438/output.json'}\n",
      "\n",
      "Completed!\n",
      "\n",
      "HumanLoop Name: 1691927802-2831688\n",
      "HumanLoop Status: Completed\n",
      "HumanLoop Output Destination: {'OutputS3Uri': 's3://sagemaker-us-east-1-177343515204/a2i-results-1691926420/fd-1691926420/2023/08/13/11/56/42/1691927802-2831688/output.json'}\n",
      "\n",
      "Completed!\n",
      "\n",
      "HumanLoop Name: 1691927802-768095\n",
      "HumanLoop Status: Completed\n",
      "HumanLoop Output Destination: {'OutputS3Uri': 's3://sagemaker-us-east-1-177343515204/a2i-results-1691926420/fd-1691926420/2023/08/13/11/56/42/1691927802-768095/output.json'}\n",
      "\n",
      "Completed!\n",
      "\n"
     ]
    }
   ],
   "source": [
    "import time\n",
    "\n",
    "completed_human_loops = []\n",
    "for human_loop_name in human_loops_started:\n",
    "    resp = a2i.describe_human_loop(HumanLoopName=human_loop_name)\n",
    "    print(f\"HumanLoop Name: {human_loop_name}\")\n",
    "    print(f'HumanLoop Status: {resp[\"HumanLoopStatus\"]}')\n",
    "    print(f'HumanLoop Output Destination: {resp[\"HumanLoopOutput\"]}')\n",
    "    print(\"\")\n",
    "    while resp[\"HumanLoopStatus\"] != \"Completed\":\n",
    "        print(f\"Waiting for HumanLoop to complete.\")\n",
    "        time.sleep(10)\n",
    "        resp = a2i.describe_human_loop(HumanLoopName=human_loop_name)\n",
    "    if resp[\"HumanLoopStatus\"] == \"Completed\":\n",
    "        completed_human_loops.append(resp)\n",
    "        print(f\"Completed!\")\n",
    "        print(\"\")"
   ]
  },
  {
   "cell_type": "markdown",
   "metadata": {},
   "source": [
    "## _Note:  This cell ^^ above ^^ will not complete until you label the data following the instructions above._"
   ]
  },
  {
   "cell_type": "markdown",
   "metadata": {},
   "source": [
    "<a name='c3w3-4.6.'></a>\n",
    "### 4.6. View human labels and prepare the data for re-training"
   ]
  },
  {
   "cell_type": "markdown",
   "metadata": {},
   "source": [
    "Once the work is complete, Amazon A2I stores the results in the specified S3 bucket and sends a Cloudwatch Event.  Let's check the S3 contents."
   ]
  },
  {
   "cell_type": "code",
   "execution_count": 53,
   "metadata": {
    "scrolled": true,
    "tags": []
   },
   "outputs": [
    {
     "name": "stdout",
     "output_type": "stream",
     "text": [
      "{'flowDefinitionArn': 'arn:aws:sagemaker:us-east-1:177343515204:flow-definition/fd-1691926420',\n",
      " 'humanAnswers': [{'acceptanceTime': '2023-08-13T11:57:49.685Z',\n",
      "                   'answerContent': {'sentiment': {'label': '-1'}},\n",
      "                   'submissionTime': '2023-08-13T11:58:05.644Z',\n",
      "                   'timeSpentInSeconds': 15.959,\n",
      "                   'workerId': '5de05e0793ca4e20',\n",
      "                   'workerMetadata': {'identityData': {'identityProviderType': 'Cognito',\n",
      "                                                       'issuer': 'https://cognito-idp.us-east-1.amazonaws.com/us-east-1_1WUma7wVb',\n",
      "                                                       'sub': '3de08dda-0b9b-4851-9fb4-67561bdec9d3'}}}],\n",
      " 'humanLoopName': '1691927801-736438',\n",
      " 'inputContent': {'initialValue': -1,\n",
      "                  'taskObject': 'I am unhappy with this product'}}\n",
      "{'flowDefinitionArn': 'arn:aws:sagemaker:us-east-1:177343515204:flow-definition/fd-1691926420',\n",
      " 'humanAnswers': [{'acceptanceTime': '2023-08-13T11:58:09.013Z',\n",
      "                   'answerContent': {'sentiment': {'label': '0'}},\n",
      "                   'submissionTime': '2023-08-13T11:58:12.218Z',\n",
      "                   'timeSpentInSeconds': 3.205,\n",
      "                   'workerId': '5de05e0793ca4e20',\n",
      "                   'workerMetadata': {'identityData': {'identityProviderType': 'Cognito',\n",
      "                                                       'issuer': 'https://cognito-idp.us-east-1.amazonaws.com/us-east-1_1WUma7wVb',\n",
      "                                                       'sub': '3de08dda-0b9b-4851-9fb4-67561bdec9d3'}}}],\n",
      " 'humanLoopName': '1691927802-2831688',\n",
      " 'inputContent': {'initialValue': 1, 'taskObject': 'It is okay'}}\n",
      "{'flowDefinitionArn': 'arn:aws:sagemaker:us-east-1:177343515204:flow-definition/fd-1691926420',\n",
      " 'humanAnswers': [{'acceptanceTime': '2023-08-13T11:58:05.724Z',\n",
      "                   'answerContent': {'sentiment': {'label': '0'}},\n",
      "                   'submissionTime': '2023-08-13T11:58:08.923Z',\n",
      "                   'timeSpentInSeconds': 3.199,\n",
      "                   'workerId': '5de05e0793ca4e20',\n",
      "                   'workerMetadata': {'identityData': {'identityProviderType': 'Cognito',\n",
      "                                                       'issuer': 'https://cognito-idp.us-east-1.amazonaws.com/us-east-1_1WUma7wVb',\n",
      "                                                       'sub': '3de08dda-0b9b-4851-9fb4-67561bdec9d3'}}}],\n",
      " 'humanLoopName': '1691927802-768095',\n",
      " 'inputContent': {'initialValue': 1, 'taskObject': 'sometimes it works'}}\n"
     ]
    }
   ],
   "source": [
    "import re\n",
    "from pprint import pprint\n",
    "\n",
    "fixed_items = []\n",
    "\n",
    "for resp in completed_human_loops:\n",
    "    split_string = re.split(\"s3://\" + bucket + \"/\", resp[\"HumanLoopOutput\"][\"OutputS3Uri\"])\n",
    "    output_bucket_key = split_string[1]\n",
    "\n",
    "    response = s3.get_object(Bucket=bucket, Key=output_bucket_key)\n",
    "    content = response[\"Body\"].read().decode(\"utf-8\")\n",
    "    json_output = json.loads(content)\n",
    "    pprint(json_output)\n",
    "\n",
    "    input_content = json_output[\"inputContent\"]\n",
    "    human_answer = json_output[\"humanAnswers\"][0][\"answerContent\"]\n",
    "    fixed_item = {\"input_content\": input_content, \"human_answer\": human_answer}\n",
    "    fixed_items.append(fixed_item)"
   ]
  },
  {
   "cell_type": "markdown",
   "metadata": {},
   "source": [
    "Now you can prepare the data for re-training."
   ]
  },
  {
   "cell_type": "code",
   "execution_count": 54,
   "metadata": {
    "tags": []
   },
   "outputs": [
    {
     "data": {
      "text/html": [
       "<div>\n",
       "<style scoped>\n",
       "    .dataframe tbody tr th:only-of-type {\n",
       "        vertical-align: middle;\n",
       "    }\n",
       "\n",
       "    .dataframe tbody tr th {\n",
       "        vertical-align: top;\n",
       "    }\n",
       "\n",
       "    .dataframe thead th {\n",
       "        text-align: right;\n",
       "    }\n",
       "</style>\n",
       "<table border=\"1\" class=\"dataframe\">\n",
       "  <thead>\n",
       "    <tr style=\"text-align: right;\">\n",
       "      <th></th>\n",
       "      <th>input_content</th>\n",
       "      <th>human_answer</th>\n",
       "    </tr>\n",
       "  </thead>\n",
       "  <tbody>\n",
       "    <tr>\n",
       "      <th>0</th>\n",
       "      <td>{'initialValue': -1, 'taskObject': 'I am unhap...</td>\n",
       "      <td>{'sentiment': {'label': '-1'}}</td>\n",
       "    </tr>\n",
       "    <tr>\n",
       "      <th>1</th>\n",
       "      <td>{'initialValue': 1, 'taskObject': 'It is okay'}</td>\n",
       "      <td>{'sentiment': {'label': '0'}}</td>\n",
       "    </tr>\n",
       "    <tr>\n",
       "      <th>2</th>\n",
       "      <td>{'initialValue': 1, 'taskObject': 'sometimes i...</td>\n",
       "      <td>{'sentiment': {'label': '0'}}</td>\n",
       "    </tr>\n",
       "  </tbody>\n",
       "</table>\n",
       "</div>"
      ],
      "text/plain": [
       "                                       input_content  \\\n",
       "0  {'initialValue': -1, 'taskObject': 'I am unhap...   \n",
       "1    {'initialValue': 1, 'taskObject': 'It is okay'}   \n",
       "2  {'initialValue': 1, 'taskObject': 'sometimes i...   \n",
       "\n",
       "                     human_answer  \n",
       "0  {'sentiment': {'label': '-1'}}  \n",
       "1   {'sentiment': {'label': '0'}}  \n",
       "2   {'sentiment': {'label': '0'}}  "
      ]
     },
     "execution_count": 54,
     "metadata": {},
     "output_type": "execute_result"
    }
   ],
   "source": [
    "df_fixed_items = pd.DataFrame(fixed_items)  \n",
    "df_fixed_items.head()"
   ]
  },
  {
   "cell_type": "markdown",
   "metadata": {},
   "source": [
    "Upload the notebook into S3 bucket for grading purposes.\n",
    "\n",
    "**Note:** you may need to click on \"Save\" button before the upload."
   ]
  },
  {
   "cell_type": "code",
   "execution_count": 57,
   "metadata": {
    "tags": []
   },
   "outputs": [
    {
     "name": "stdout",
     "output_type": "stream",
     "text": [
      "upload: ./C3_W3_Assignment.ipynb to s3://sagemaker-us-east-1-177343515204/C3_W3_Assignment_Learner.ipynb\n"
     ]
    }
   ],
   "source": [
    "!aws s3 cp ./C3_W3_Assignment.ipynb s3://$bucket/C3_W3_Assignment_Learner.ipynb"
   ]
  },
  {
   "cell_type": "code",
   "execution_count": null,
   "metadata": {},
   "outputs": [],
   "source": []
  }
 ],
 "metadata": {
  "availableInstances": [
   {
    "_defaultOrder": 0,
    "_isFastLaunch": true,
    "category": "General purpose",
    "gpuNum": 0,
    "hideHardwareSpecs": false,
    "memoryGiB": 4,
    "name": "ml.t3.medium",
    "vcpuNum": 2
   },
   {
    "_defaultOrder": 1,
    "_isFastLaunch": false,
    "category": "General purpose",
    "gpuNum": 0,
    "hideHardwareSpecs": false,
    "memoryGiB": 8,
    "name": "ml.t3.large",
    "vcpuNum": 2
   },
   {
    "_defaultOrder": 2,
    "_isFastLaunch": false,
    "category": "General purpose",
    "gpuNum": 0,
    "hideHardwareSpecs": false,
    "memoryGiB": 16,
    "name": "ml.t3.xlarge",
    "vcpuNum": 4
   },
   {
    "_defaultOrder": 3,
    "_isFastLaunch": false,
    "category": "General purpose",
    "gpuNum": 0,
    "hideHardwareSpecs": false,
    "memoryGiB": 32,
    "name": "ml.t3.2xlarge",
    "vcpuNum": 8
   },
   {
    "_defaultOrder": 4,
    "_isFastLaunch": true,
    "category": "General purpose",
    "gpuNum": 0,
    "hideHardwareSpecs": false,
    "memoryGiB": 8,
    "name": "ml.m5.large",
    "vcpuNum": 2
   },
   {
    "_defaultOrder": 5,
    "_isFastLaunch": false,
    "category": "General purpose",
    "gpuNum": 0,
    "hideHardwareSpecs": false,
    "memoryGiB": 16,
    "name": "ml.m5.xlarge",
    "vcpuNum": 4
   },
   {
    "_defaultOrder": 6,
    "_isFastLaunch": false,
    "category": "General purpose",
    "gpuNum": 0,
    "hideHardwareSpecs": false,
    "memoryGiB": 32,
    "name": "ml.m5.2xlarge",
    "vcpuNum": 8
   },
   {
    "_defaultOrder": 7,
    "_isFastLaunch": false,
    "category": "General purpose",
    "gpuNum": 0,
    "hideHardwareSpecs": false,
    "memoryGiB": 64,
    "name": "ml.m5.4xlarge",
    "vcpuNum": 16
   },
   {
    "_defaultOrder": 8,
    "_isFastLaunch": false,
    "category": "General purpose",
    "gpuNum": 0,
    "hideHardwareSpecs": false,
    "memoryGiB": 128,
    "name": "ml.m5.8xlarge",
    "vcpuNum": 32
   },
   {
    "_defaultOrder": 9,
    "_isFastLaunch": false,
    "category": "General purpose",
    "gpuNum": 0,
    "hideHardwareSpecs": false,
    "memoryGiB": 192,
    "name": "ml.m5.12xlarge",
    "vcpuNum": 48
   },
   {
    "_defaultOrder": 10,
    "_isFastLaunch": false,
    "category": "General purpose",
    "gpuNum": 0,
    "hideHardwareSpecs": false,
    "memoryGiB": 256,
    "name": "ml.m5.16xlarge",
    "vcpuNum": 64
   },
   {
    "_defaultOrder": 11,
    "_isFastLaunch": false,
    "category": "General purpose",
    "gpuNum": 0,
    "hideHardwareSpecs": false,
    "memoryGiB": 384,
    "name": "ml.m5.24xlarge",
    "vcpuNum": 96
   },
   {
    "_defaultOrder": 12,
    "_isFastLaunch": false,
    "category": "General purpose",
    "gpuNum": 0,
    "hideHardwareSpecs": false,
    "memoryGiB": 8,
    "name": "ml.m5d.large",
    "vcpuNum": 2
   },
   {
    "_defaultOrder": 13,
    "_isFastLaunch": false,
    "category": "General purpose",
    "gpuNum": 0,
    "hideHardwareSpecs": false,
    "memoryGiB": 16,
    "name": "ml.m5d.xlarge",
    "vcpuNum": 4
   },
   {
    "_defaultOrder": 14,
    "_isFastLaunch": false,
    "category": "General purpose",
    "gpuNum": 0,
    "hideHardwareSpecs": false,
    "memoryGiB": 32,
    "name": "ml.m5d.2xlarge",
    "vcpuNum": 8
   },
   {
    "_defaultOrder": 15,
    "_isFastLaunch": false,
    "category": "General purpose",
    "gpuNum": 0,
    "hideHardwareSpecs": false,
    "memoryGiB": 64,
    "name": "ml.m5d.4xlarge",
    "vcpuNum": 16
   },
   {
    "_defaultOrder": 16,
    "_isFastLaunch": false,
    "category": "General purpose",
    "gpuNum": 0,
    "hideHardwareSpecs": false,
    "memoryGiB": 128,
    "name": "ml.m5d.8xlarge",
    "vcpuNum": 32
   },
   {
    "_defaultOrder": 17,
    "_isFastLaunch": false,
    "category": "General purpose",
    "gpuNum": 0,
    "hideHardwareSpecs": false,
    "memoryGiB": 192,
    "name": "ml.m5d.12xlarge",
    "vcpuNum": 48
   },
   {
    "_defaultOrder": 18,
    "_isFastLaunch": false,
    "category": "General purpose",
    "gpuNum": 0,
    "hideHardwareSpecs": false,
    "memoryGiB": 256,
    "name": "ml.m5d.16xlarge",
    "vcpuNum": 64
   },
   {
    "_defaultOrder": 19,
    "_isFastLaunch": false,
    "category": "General purpose",
    "gpuNum": 0,
    "hideHardwareSpecs": false,
    "memoryGiB": 384,
    "name": "ml.m5d.24xlarge",
    "vcpuNum": 96
   },
   {
    "_defaultOrder": 20,
    "_isFastLaunch": false,
    "category": "General purpose",
    "gpuNum": 0,
    "hideHardwareSpecs": true,
    "memoryGiB": 0,
    "name": "ml.geospatial.interactive",
    "supportedImageNames": [
     "sagemaker-geospatial-v1-0"
    ],
    "vcpuNum": 0
   },
   {
    "_defaultOrder": 21,
    "_isFastLaunch": true,
    "category": "Compute optimized",
    "gpuNum": 0,
    "hideHardwareSpecs": false,
    "memoryGiB": 4,
    "name": "ml.c5.large",
    "vcpuNum": 2
   },
   {
    "_defaultOrder": 22,
    "_isFastLaunch": false,
    "category": "Compute optimized",
    "gpuNum": 0,
    "hideHardwareSpecs": false,
    "memoryGiB": 8,
    "name": "ml.c5.xlarge",
    "vcpuNum": 4
   },
   {
    "_defaultOrder": 23,
    "_isFastLaunch": false,
    "category": "Compute optimized",
    "gpuNum": 0,
    "hideHardwareSpecs": false,
    "memoryGiB": 16,
    "name": "ml.c5.2xlarge",
    "vcpuNum": 8
   },
   {
    "_defaultOrder": 24,
    "_isFastLaunch": false,
    "category": "Compute optimized",
    "gpuNum": 0,
    "hideHardwareSpecs": false,
    "memoryGiB": 32,
    "name": "ml.c5.4xlarge",
    "vcpuNum": 16
   },
   {
    "_defaultOrder": 25,
    "_isFastLaunch": false,
    "category": "Compute optimized",
    "gpuNum": 0,
    "hideHardwareSpecs": false,
    "memoryGiB": 72,
    "name": "ml.c5.9xlarge",
    "vcpuNum": 36
   },
   {
    "_defaultOrder": 26,
    "_isFastLaunch": false,
    "category": "Compute optimized",
    "gpuNum": 0,
    "hideHardwareSpecs": false,
    "memoryGiB": 96,
    "name": "ml.c5.12xlarge",
    "vcpuNum": 48
   },
   {
    "_defaultOrder": 27,
    "_isFastLaunch": false,
    "category": "Compute optimized",
    "gpuNum": 0,
    "hideHardwareSpecs": false,
    "memoryGiB": 144,
    "name": "ml.c5.18xlarge",
    "vcpuNum": 72
   },
   {
    "_defaultOrder": 28,
    "_isFastLaunch": false,
    "category": "Compute optimized",
    "gpuNum": 0,
    "hideHardwareSpecs": false,
    "memoryGiB": 192,
    "name": "ml.c5.24xlarge",
    "vcpuNum": 96
   },
   {
    "_defaultOrder": 29,
    "_isFastLaunch": true,
    "category": "Accelerated computing",
    "gpuNum": 1,
    "hideHardwareSpecs": false,
    "memoryGiB": 16,
    "name": "ml.g4dn.xlarge",
    "vcpuNum": 4
   },
   {
    "_defaultOrder": 30,
    "_isFastLaunch": false,
    "category": "Accelerated computing",
    "gpuNum": 1,
    "hideHardwareSpecs": false,
    "memoryGiB": 32,
    "name": "ml.g4dn.2xlarge",
    "vcpuNum": 8
   },
   {
    "_defaultOrder": 31,
    "_isFastLaunch": false,
    "category": "Accelerated computing",
    "gpuNum": 1,
    "hideHardwareSpecs": false,
    "memoryGiB": 64,
    "name": "ml.g4dn.4xlarge",
    "vcpuNum": 16
   },
   {
    "_defaultOrder": 32,
    "_isFastLaunch": false,
    "category": "Accelerated computing",
    "gpuNum": 1,
    "hideHardwareSpecs": false,
    "memoryGiB": 128,
    "name": "ml.g4dn.8xlarge",
    "vcpuNum": 32
   },
   {
    "_defaultOrder": 33,
    "_isFastLaunch": false,
    "category": "Accelerated computing",
    "gpuNum": 4,
    "hideHardwareSpecs": false,
    "memoryGiB": 192,
    "name": "ml.g4dn.12xlarge",
    "vcpuNum": 48
   },
   {
    "_defaultOrder": 34,
    "_isFastLaunch": false,
    "category": "Accelerated computing",
    "gpuNum": 1,
    "hideHardwareSpecs": false,
    "memoryGiB": 256,
    "name": "ml.g4dn.16xlarge",
    "vcpuNum": 64
   },
   {
    "_defaultOrder": 35,
    "_isFastLaunch": false,
    "category": "Accelerated computing",
    "gpuNum": 1,
    "hideHardwareSpecs": false,
    "memoryGiB": 61,
    "name": "ml.p3.2xlarge",
    "vcpuNum": 8
   },
   {
    "_defaultOrder": 36,
    "_isFastLaunch": false,
    "category": "Accelerated computing",
    "gpuNum": 4,
    "hideHardwareSpecs": false,
    "memoryGiB": 244,
    "name": "ml.p3.8xlarge",
    "vcpuNum": 32
   },
   {
    "_defaultOrder": 37,
    "_isFastLaunch": false,
    "category": "Accelerated computing",
    "gpuNum": 8,
    "hideHardwareSpecs": false,
    "memoryGiB": 488,
    "name": "ml.p3.16xlarge",
    "vcpuNum": 64
   },
   {
    "_defaultOrder": 38,
    "_isFastLaunch": false,
    "category": "Accelerated computing",
    "gpuNum": 8,
    "hideHardwareSpecs": false,
    "memoryGiB": 768,
    "name": "ml.p3dn.24xlarge",
    "vcpuNum": 96
   },
   {
    "_defaultOrder": 39,
    "_isFastLaunch": false,
    "category": "Memory Optimized",
    "gpuNum": 0,
    "hideHardwareSpecs": false,
    "memoryGiB": 16,
    "name": "ml.r5.large",
    "vcpuNum": 2
   },
   {
    "_defaultOrder": 40,
    "_isFastLaunch": false,
    "category": "Memory Optimized",
    "gpuNum": 0,
    "hideHardwareSpecs": false,
    "memoryGiB": 32,
    "name": "ml.r5.xlarge",
    "vcpuNum": 4
   },
   {
    "_defaultOrder": 41,
    "_isFastLaunch": false,
    "category": "Memory Optimized",
    "gpuNum": 0,
    "hideHardwareSpecs": false,
    "memoryGiB": 64,
    "name": "ml.r5.2xlarge",
    "vcpuNum": 8
   },
   {
    "_defaultOrder": 42,
    "_isFastLaunch": false,
    "category": "Memory Optimized",
    "gpuNum": 0,
    "hideHardwareSpecs": false,
    "memoryGiB": 128,
    "name": "ml.r5.4xlarge",
    "vcpuNum": 16
   },
   {
    "_defaultOrder": 43,
    "_isFastLaunch": false,
    "category": "Memory Optimized",
    "gpuNum": 0,
    "hideHardwareSpecs": false,
    "memoryGiB": 256,
    "name": "ml.r5.8xlarge",
    "vcpuNum": 32
   },
   {
    "_defaultOrder": 44,
    "_isFastLaunch": false,
    "category": "Memory Optimized",
    "gpuNum": 0,
    "hideHardwareSpecs": false,
    "memoryGiB": 384,
    "name": "ml.r5.12xlarge",
    "vcpuNum": 48
   },
   {
    "_defaultOrder": 45,
    "_isFastLaunch": false,
    "category": "Memory Optimized",
    "gpuNum": 0,
    "hideHardwareSpecs": false,
    "memoryGiB": 512,
    "name": "ml.r5.16xlarge",
    "vcpuNum": 64
   },
   {
    "_defaultOrder": 46,
    "_isFastLaunch": false,
    "category": "Memory Optimized",
    "gpuNum": 0,
    "hideHardwareSpecs": false,
    "memoryGiB": 768,
    "name": "ml.r5.24xlarge",
    "vcpuNum": 96
   },
   {
    "_defaultOrder": 47,
    "_isFastLaunch": false,
    "category": "Accelerated computing",
    "gpuNum": 1,
    "hideHardwareSpecs": false,
    "memoryGiB": 16,
    "name": "ml.g5.xlarge",
    "vcpuNum": 4
   },
   {
    "_defaultOrder": 48,
    "_isFastLaunch": false,
    "category": "Accelerated computing",
    "gpuNum": 1,
    "hideHardwareSpecs": false,
    "memoryGiB": 32,
    "name": "ml.g5.2xlarge",
    "vcpuNum": 8
   },
   {
    "_defaultOrder": 49,
    "_isFastLaunch": false,
    "category": "Accelerated computing",
    "gpuNum": 1,
    "hideHardwareSpecs": false,
    "memoryGiB": 64,
    "name": "ml.g5.4xlarge",
    "vcpuNum": 16
   },
   {
    "_defaultOrder": 50,
    "_isFastLaunch": false,
    "category": "Accelerated computing",
    "gpuNum": 1,
    "hideHardwareSpecs": false,
    "memoryGiB": 128,
    "name": "ml.g5.8xlarge",
    "vcpuNum": 32
   },
   {
    "_defaultOrder": 51,
    "_isFastLaunch": false,
    "category": "Accelerated computing",
    "gpuNum": 1,
    "hideHardwareSpecs": false,
    "memoryGiB": 256,
    "name": "ml.g5.16xlarge",
    "vcpuNum": 64
   },
   {
    "_defaultOrder": 52,
    "_isFastLaunch": false,
    "category": "Accelerated computing",
    "gpuNum": 4,
    "hideHardwareSpecs": false,
    "memoryGiB": 192,
    "name": "ml.g5.12xlarge",
    "vcpuNum": 48
   },
   {
    "_defaultOrder": 53,
    "_isFastLaunch": false,
    "category": "Accelerated computing",
    "gpuNum": 4,
    "hideHardwareSpecs": false,
    "memoryGiB": 384,
    "name": "ml.g5.24xlarge",
    "vcpuNum": 96
   },
   {
    "_defaultOrder": 54,
    "_isFastLaunch": false,
    "category": "Accelerated computing",
    "gpuNum": 8,
    "hideHardwareSpecs": false,
    "memoryGiB": 768,
    "name": "ml.g5.48xlarge",
    "vcpuNum": 192
   },
   {
    "_defaultOrder": 55,
    "_isFastLaunch": false,
    "category": "Accelerated computing",
    "gpuNum": 8,
    "hideHardwareSpecs": false,
    "memoryGiB": 1152,
    "name": "ml.p4d.24xlarge",
    "vcpuNum": 96
   },
   {
    "_defaultOrder": 56,
    "_isFastLaunch": false,
    "category": "Accelerated computing",
    "gpuNum": 8,
    "hideHardwareSpecs": false,
    "memoryGiB": 1152,
    "name": "ml.p4de.24xlarge",
    "vcpuNum": 96
   }
  ],
  "instance_type": "ml.t3.medium",
  "kernelspec": {
   "display_name": "Python 3 (Data Science)",
   "language": "python",
   "name": "python3__SAGEMAKER_INTERNAL__arn:aws:sagemaker:us-east-1:081325390199:image/datascience-1.0"
  },
  "language_info": {
   "codemirror_mode": {
    "name": "ipython",
    "version": 3
   },
   "file_extension": ".py",
   "mimetype": "text/x-python",
   "name": "python",
   "nbconvert_exporter": "python",
   "pygments_lexer": "ipython3",
   "version": "3.7.10"
  }
 },
 "nbformat": 4,
 "nbformat_minor": 4
}
